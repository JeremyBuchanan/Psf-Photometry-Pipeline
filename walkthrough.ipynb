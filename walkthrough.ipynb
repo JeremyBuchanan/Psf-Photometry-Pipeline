{
 "cells": [
  {
   "cell_type": "markdown",
   "metadata": {},
   "source": [
    "## Intro & the Dataset\n",
    "\n",
    "I am including this notebook to briefly document the steps I took to turn a stack of FITS files taller than my house and fresh off the CCDs at the LCOGT into all the pretty diagrams that showed up on this poster.\n",
    "\n",
    "<div>\n",
    "<img src=\"images/poster.jpg\" width=\"500\" height=\"340\">\n",
    "</div>\n",
    "\n",
    "The telescope images I worked with where taken of a young binary star by the name StHα-34. The images came in 3 separate color bands of visible light: U band, V band, and Z band (in order from shortest to longest wavelength). Each color band contained around 125 image sets, and each image set usually contained 3 images, for a total of just over 1000 total images, each contained in its own FITS file. Out of concern for over-exposure, images where taken in a short-exposure burst of 3 images. The script performs photometry on a median composite of each image set. For a better theoretical understanding of the project for which this package was developed, I have a shorter paper simplifying some of the theory of binary star accretion [here.](https://drive.google.com/file/d/1v-OLpeAwAxZ_o04SSG4qDhjf2u3Ahn1s/view?usp=sharing)\n",
    "\n",
    "\n",
    "## Setting up the Environment\n",
    "\n",
    "To set up all the dependencies I just need the requirements.txt file from the repo. Then from the shell I create and activate a virtual environment using the built in python module. Once inside the environment, I install all the packages I need from the text file."
   ]
  },
  {
   "cell_type": "code",
   "execution_count": null,
   "metadata": {
    "vscode": {
     "languageId": "powershell"
    }
   },
   "outputs": [
    {
     "ename": "",
     "evalue": "",
     "output_type": "error",
     "traceback": [
      "\u001b[1;31mRunning cells with 'Python 3.9.12 64-bit (windows store)' requires ipykernel package.\n",
      "Run the following command to install 'ipykernel' into the Python environment. \n",
      "Command: 'C:/Users/Dummy/AppData/Local/Microsoft/WindowsApps/python3.9.exe -m pip install ipykernel -U --user --force-reinstall'"
     ]
    }
   ],
   "source": [
    "python -m venv \n",
    "\n",
    "./env/Scripts/activate\n",
    "\n",
    "pip install -r requirements.txt"
   ]
  },
  {
   "cell_type": "markdown",
   "metadata": {},
   "source": [
    "## Running the Pipeline\n",
    "\n",
    "With the environment all set up, I jump into a python shell and import the pipeline and start crunching through those FITS files."
   ]
  },
  {
   "cell_type": "code",
   "execution_count": null,
   "metadata": {},
   "outputs": [
    {
     "ename": "",
     "evalue": "",
     "output_type": "error",
     "traceback": [
      "\u001b[1;31mRunning cells with 'Python 3.9.12 64-bit (windows store)' requires ipykernel package.\n",
      "Run the following command to install 'ipykernel' into the Python environment. \n",
      "Command: 'C:/Users/Dummy/AppData/Local/Microsoft/WindowsApps/python3.9.exe -m pip install ipykernel -U --user --force-reinstall'"
     ]
    }
   ],
   "source": [
    "from psf_phot import pipeline\n",
    "pipeline('../filenames.csv', '../fits/', '../results/')"
   ]
  },
  {
   "cell_type": "markdown",
   "metadata": {},
   "source": [
    "Since my stack of files was tall enough that I could use it to climb the Statue of Liberty, This took about 20 hours total, between all the starts and stops to fix random things. That was roughly 350 image sets, each containing 3 images, for a total of over 1000 FITS files total. After finishing, a run of a successful image set returned 4 files to the results folder:\n",
    "\n",
    "- A new FITS file was created for the composite image of each set, also containing the targets metadata in a header\n",
    "- A CSV file with all the tabulated data of the photometry results\n",
    "- A PDF containing the images from the image set, the generated point spread function model, and optionally the residual images of the stars used to create the model; this was used diagnostically to make sure the code was working well\n",
    "- A TXT file showing a bunch more diasgnostic info about how well the script ran for that image set.\n",
    "\n",
    "Similar results are generated for image sets that failed, varying based on which point the image set failed.\n",
    "\n",
    "\n",
    "## Creating the Light Curves\n",
    "\n",
    "This is where the science starts and where the project actually gets interesting. I created light curves to track the brightness of the target star across the entire period of observation, and then ran a few different analyses on the cleaned data. This is also where the scope of this package ends. [Here](https://github.com/JeremyBuchanan/photometry-snippets.git) is a link to another repository, where I stashed all the other code I used to make my plots.\n",
    "\n",
    "I used the ens_phot.py module from the second repo to build the light curves. Though the module contains several functions, I only needed two of them for my purposes: ens_match and ens_lc. First I needed to combine all the CSV files from all the image sets in the color band into a single file to be read into the matching script."
   ]
  },
  {
   "cell_type": "code",
   "execution_count": null,
   "metadata": {
    "vscode": {
     "languageId": "powershell"
    }
   },
   "outputs": [
    {
     "ename": "",
     "evalue": "",
     "output_type": "error",
     "traceback": [
      "\u001b[1;31mRunning cells with 'Python 3.9.12 64-bit (windows store)' requires ipykernel package.\n",
      "Run the following command to install 'ipykernel' into the Python environment. \n",
      "Command: 'C:/Users/Dummy/AppData/Local/Microsoft/WindowsApps/python3.9.exe -m pip install ipykernel -U --user --force-reinstall'"
     ]
    }
   ],
   "source": [
    "cd results\n",
    "\n",
    "cat *.csv > all.csv # combine the files\n",
    "\n",
    "grep -v ra all.csv > all.csv # remove all the header rows"
   ]
  },
  {
   "cell_type": "markdown",
   "metadata": {},
   "source": [
    "Then give that CSV to the matching script."
   ]
  },
  {
   "cell_type": "code",
   "execution_count": null,
   "metadata": {},
   "outputs": [],
   "source": [
    "from ens_phot import ens_match, ens_lc\n",
    "ens_match(in_file='all.csv', tra=73.59863195295, tdec=+17.16480415593, scope='lcogt', out_file='matched')"
   ]
  },
  {
   "cell_type": "markdown",
   "metadata": {},
   "source": [
    "Ens_match searches through the data in 'all.csv' to pull out only the data for the stars at a set position (indicated by ra and dec). The output from ens_match is a 'pickle' file. It's basically a dictionary holding all the flux data of the target star. Then that file goes right into the light curve script."
   ]
  },
  {
   "cell_type": "code",
   "execution_count": null,
   "metadata": {},
   "outputs": [],
   "source": [
    "ens_lc(in_file='matched.p', target='target', date='4/21/22', scope='lcogt')"
   ]
  },
  {
   "cell_type": "markdown",
   "metadata": {},
   "source": [
    "I used the ens_lc function to actually generate the light curves for the project. The script brings up an interactive window with tons of functionality to manipulate the data. It is a little tricky to get the hang of, but it works really well, and the commands are explaned well in the documentation of the function. The idea is to clean the data of the target star to yield a very uniform light curve. Two main steps were used to clean the light curves.\n",
    "\n",
    "1. I selected for the most uniform images by trimming off the very bright and very dim images of the target. The justification is that these images are likely not accurate representations of the actual target, because they are polluted either by cloud cover or moonlight.\n",
    "2. Even among the main segment of the image sets, there are outlier image sets. In short terms, changes to the target's brightness are tracked by comparing how the target appears in context of the stars around it. Occasionally, one of the stars near the target will appear much brighter, perhaps due to a hot pixel on the telescope chip, or another obstruction. The issue can be solved by removing the very bright (or very dim) star from the context of the target, or in extreme cases by removing the bad image set entirely.\n",
    "\n",
    "The output of ens_lc is a DAT file containing the light curve, which I used to finally plot everything.\n",
    "\n",
    "\n",
    "## Plotting Everything\n",
    "\n",
    "The first plots are the light curves. I'm not going to be concerned with pulling any conclusions out of the plots here; I'll save that for an actual published paper."
   ]
  },
  {
   "cell_type": "code",
   "execution_count": null,
   "metadata": {
    "vscode": {
     "languageId": "powershell"
    }
   },
   "outputs": [],
   "source": [
    "python lc.py"
   ]
  },
  {
   "cell_type": "markdown",
   "metadata": {},
   "source": [
    "\n",
    "<div>\n",
    "<img src=\"images/periods.png\" width=\"500\" height=\"340\">\n",
    "</div>\n",
    "\n",
    "<div>\n",
    "<img src=\"images/phasefold.png\" width=\"500\" height=\"340\">\n",
    "</div>\n",
    "\n",
    "The first plot is nothing special; its just the light curve itself. The second plot, on the other hand, is called a \"phase folded light curve.\" By knowing the initial start date of observation and the length of the orbital period of the binary, I was able to plot the data from each period of orbit on top of each other, making it easier to identify patterns throughout the orbit of the binary. Again, the conclusions are not really important, just the process for running all these scripts to recreate the results.\n",
    "\n",
    "\n",
    "Next up to be plotted is the periodogram. This is a pretty interesting one, and I think it's worthwhile to dig into the math a bit."
   ]
  },
  {
   "cell_type": "code",
   "execution_count": null,
   "metadata": {
    "vscode": {
     "languageId": "powershell"
    }
   },
   "outputs": [],
   "source": [
    "python p_gram.py"
   ]
  },
  {
   "cell_type": "markdown",
   "metadata": {},
   "source": [
    "<div>\n",
    "<img src=\"images/periodogram.png\" width=\"500\" height=\"300\">\n",
    "</div>\n",
    "\n",
    "I plotted what is known as a Lomb-Scargle periodogram. Similar to a fast Fourier transform, this periodogram is better suited to datasets with data points at less consistent time intervals. Other than that, it is a similar technique for breaking the variations in the data into a sum of simple sine waves of varying frequencies. The periodogram shows the \"power\" (essentially the degree to which there is periodic movement) over the period of the binary's orbit, which can show whether or not the data changes in sync with the period of orbit.\n",
    "\n",
    "\n",
    "Finally is the color analysis plot. While the other plots contained the data from 3 separate color bands, only the U band, or the \"bluest\" light from the target was studied in this plot."
   ]
  },
  {
   "cell_type": "code",
   "execution_count": null,
   "metadata": {
    "vscode": {
     "languageId": "powershell"
    }
   },
   "outputs": [],
   "source": [
    "python color_analysis.py"
   ]
  },
  {
   "cell_type": "markdown",
   "metadata": {},
   "source": [
    "<div>\n",
    "<img src=\"images/colorplots.png\" width=\"500\" height=\"340\">\n",
    "</div>\n",
    "\n",
    "This plot is fairly straight forward. It shows how the color of the target changes as the intensity of the targets light changes. Without getting into too many specifics, it show that when the light from the target appears brighter, it also appears to be \"bluer\" light than normal.\n",
    "\n",
    "\n",
    "## Closing\n",
    "\n",
    "My intent with this walkthrough is to show one example for how this code could be taken from raw telescope data all the way to a couple presentable plots. I also wanted to highlight a few of the tools used for analyzing all the data processed by this package, to show -by adding some context- a practical use case for this script. "
   ]
  }
 ],
 "metadata": {
  "interpreter": {
   "hash": "fe4f31e75ab3b59fc834310925016e30ea4fc91e83b7d3a0506ece3c46a00f6f"
  },
  "kernelspec": {
   "display_name": "Python 3.9.12 64-bit (windows store)",
   "language": "python",
   "name": "python3"
  },
  "language_info": {
   "name": "python",
   "version": "3.9.12"
  },
  "orig_nbformat": 4
 },
 "nbformat": 4,
 "nbformat_minor": 2
}
